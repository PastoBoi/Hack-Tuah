{
  "cells": [
    {
      "cell_type": "markdown",
      "metadata": {
        "id": "tYgXuRu3_XsP"
      },
      "source": [
        "**Implementación de un Modelo de Clasificación utilizando MLP**\n",
        "\n",
        "*John Atkinson*\n",
        "\n",
        "Este programa permite implementar una red neuronal multi-capa del tipo MLP (Multi-Layer Perceptron) para un problema de predicción simple. El modelo  aprende desde un conjunto de datos de entrenamiento (*training dataset*) y luego  prueba las predicciones sobre un conjunto de datos de prueba (*test dataset*).\n",
        "\n",
        "El problema se trata de predecir si es que un paciente cobrará seguros (1 o 0) dependiendo de sus condiciones de salud  (edad, sexo, indice de masa corporal-IMC, número de hijos, fumador, región, costos médicos -en dólares, y variable de predicción - SolicitaSeguro). Para esto se deberá cargar un dataset en excel con datos para el problema (\"*Seguros.xlsx*\").\n",
        "\n",
        "El método a utilizar es un clasificador binario (cobra -1- o no cobra -0- seguro) llamado **MLPClassifier** de la biblioteca de Machine Learning [sklearn](https://scikit-learn.org/stable/modules/generated/sklearn.neural_network.MLPClassifier.html).\n"
      ]
    },
    {
      "cell_type": "markdown",
      "metadata": {
        "id": "K14qrIQfA9LJ"
      },
      "source": [
        "Primero, importamos algunas librerías relevantes para graficar, cargar datos, y luego las necesarias de SKLEARN para entrenar y evaluar un clasificador perceptron multi-layer (MLP). Note que el método para entrenar un clasificador MLP se llama *MLPClassifier*:"
      ]
    },
    {
      "cell_type": "code",
      "execution_count": 11,
      "metadata": {
        "id": "dvCQb85dO0mu"
      },
      "outputs": [],
      "source": [
        "import pandas as pd\n",
        "from sklearn.model_selection import train_test_split\n",
        "from sklearn.neural_network import MLPClassifier\n",
        "from sklearn.metrics import accuracy_score"
      ]
    },
    {
      "cell_type": "markdown",
      "metadata": {
        "id": "LIPJ9sRrCTEG"
      },
      "source": [
        "Primero, definimos la función **CargarDatos(..)** para cargar los datos desde un conjunto de datos (dataset) de entrenamiento de datos de seguros. Cada registro viene con las variables independientes y la variable dependiente de predicción (*SolicitaSeguro*) que se carga en un dataframe panda:"
      ]
    },
    {
      "cell_type": "code",
      "execution_count": 12,
      "metadata": {
        "id": "LoxoXf9-Q5sq"
      },
      "outputs": [],
      "source": [
        "def CargarDatos():\n",
        "  df     = pd.read_excel('Seguros.xlsx')\n",
        "  data   = df.drop(['SolicitaSeguro'],axis=1)\n",
        "  labels = df.SolicitaSeguro\n",
        "  return(data,labels)"
      ]
    },
    {
      "cell_type": "markdown",
      "metadata": {
        "id": "_mhGpA1OTRWe"
      },
      "source": [
        "Comenzamos el programa principal, cargando nuestros datos:"
      ]
    },
    {
      "cell_type": "code",
      "execution_count": 35,
      "metadata": {
        "id": "INqu_j16ZJAP"
      },
      "outputs": [],
      "source": [
        "data, labels = CargarDatos()"
      ]
    },
    {
      "cell_type": "markdown",
      "metadata": {
        "id": "uNNhIlXwT4sD"
      },
      "source": [
        "Ahora separamos los datos al azar en un dataset  de entrenamiento (70%) y otro de prueba (30%):"
      ]
    },
    {
      "cell_type": "code",
      "execution_count": 39,
      "metadata": {
        "id": "9WmGR7AZUHeM"
      },
      "outputs": [],
      "source": [
        "train_data, test_data, train_labels, test_labels = train_test_split(data, labels, test_size=0.3)"
      ]
    },
    {
      "cell_type": "markdown",
      "metadata": {
        "id": "f58S_l3PUXSJ"
      },
      "source": [
        "Primero inicializamos nuestro modelo usando el método *MLPClassifier*, especificando la velocidad de aprendizaje *alpha*, el tamaño de cada capa  oculta (ej. *(5,2)* significa dos capas ocultas donde la 1era posee 5 neuronas y la 2da posee 2), el método de optimización de los pesos pues existen varios (ej. descenso de gradiente estocástico - *sgd*, optimizador basado en algoritmo de Newton - *lbfgs*, optimizador por descenso de gradiente - *adam*) y *max_iter* que corresponde al número de epochs:"
      ]
    },
    {
      "cell_type": "code",
      "execution_count": 78,
      "metadata": {
        "id": "XJFlR0r_UgyV"
      },
      "outputs": [],
      "source": [
        "Clasificador = MLPClassifier(solver='sgd',\n",
        "                    alpha=1e-5,\n",
        "                    hidden_layer_sizes=(5,2),\n",
        "                    max_iter = 300,\n",
        "                    activation ='relu')"
      ]
    },
    {
      "cell_type": "markdown",
      "metadata": {
        "id": "FWqWBicWWnbB"
      },
      "source": [
        "Ahora, entrenamos el modelo de clasificación con los datos de entrenamiento (*train_data*) y sus respectivos labels (*train_labels*):"
      ]
    },
    {
      "cell_type": "code",
      "execution_count": 79,
      "metadata": {
        "id": "0FAfwN3QUl_8"
      },
      "outputs": [],
      "source": [
        "tmp = Clasificador.fit(train_data, train_labels)"
      ]
    },
    {
      "cell_type": "markdown",
      "metadata": {
        "id": "hNYxkBC1XnpV"
      },
      "source": [
        "Una vez entrenado, revisamos el rendimiento del entrenamiento (usualmente *accuracy*):"
      ]
    },
    {
      "cell_type": "code",
      "execution_count": null,
      "metadata": {
        "id": "BcYFMB99XldC"
      },
      "outputs": [],
      "source": [
        "Clasificador.score(train_data, train_labels)"
      ]
    },
    {
      "cell_type": "markdown",
      "metadata": {
        "id": "PL2cxgCyYfSc"
      },
      "source": [
        "Ahora evaluamos el modelo entrenado con los datos de prueba:"
      ]
    },
    {
      "cell_type": "code",
      "execution_count": null,
      "metadata": {
        "id": "Y2FwgYBeYiDh"
      },
      "outputs": [],
      "source": [
        "predicciones  = Clasificador.predict(test_data)\n",
        "accuracy      = accuracy_score(predicciones, test_labels)\n",
        "print(\"Accuracy sobre los datos de prueba: \", accuracy)"
      ]
    }
  ],
  "metadata": {
    "colab": {
      "provenance": []
    },
    "kernelspec": {
      "display_name": "Python 3",
      "name": "python3"
    },
    "language_info": {
      "name": "python"
    }
  },
  "nbformat": 4,
  "nbformat_minor": 0
}
