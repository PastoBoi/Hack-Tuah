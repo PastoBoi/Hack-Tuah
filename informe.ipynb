{
 "cells": [
  {
   "cell_type": "markdown",
   "metadata": {},
   "source": [
    "Felipe Ignacio Céspedes Urzúa\n",
    "\n",
    "El clasificador MLP funcionó mucho mejor al clasificar frutas que al clasificar los subtipos de las mismas. Esto probablemente se deba a que diferenciar entre frutas es más fácil, ya que presentan características más distintas entre sí, mientras que los subtipos de una misma fruta suelen ser más similares. Es decir, las frutas tienen diferencias más marcadas, lo que facilita la tarea del modelo.\n",
    "Seguramente para que el clasificador MLP, funcione mejor en los subtipos de las frutas sea necesario, o Reducir los grupos a solo subtipos de una fruta específica, lo que ayudaría al modelo a enfocarse en diferencias más sutiles entre esos subtipos o umentar el tamaño de las muestras, de modo que el modelo tenga más información para aprender y pueda entrenarse mejor en estas distinciones más pequeñas.\n",
    "En ninguno de los casos se observó overfitting, pero en el caso de los subtipos parece haber underfitting, lo que indica que el modelo no está capturando bien la complejidad necesaria para distinguirlos. Este bajo rendimiento sugiere que el modelo podría beneficiarse de un mejor ajuste de sus hiperparámetros o de un conjunto de datos más amplio y específico.\n",
    "El metodo usado para buscar los mejores valores para el Clasificador MLP, fue mediante GridSearch, al cual le entregue intervalos de valores aproximados de los optimos, para esto me base en que generalmente las redes ocultas no son más de 2 y adicionalmente sus neuronas no suelen superar los cientos, alpha suele ser como minimo 1e-5 por lo que considere a desde ahi hacia arriba.\n",
    "\n",
    "En conclusion, el Clasificador MLP funcionó mejor para clasificar frutas que para subtipos, probablemente debido a que las diferencias entre frutas son más claras. Para mejorar la clasificación de subtipos, se debería reducir los grupos a subtipos de una misma fruta o aumentar el tamaño de las muestras para que el modelo pueda entrenarse mejor. No se observó overfitting en ninguno de los dos problemas, pero la clasificación de subtipos presenta síntomas de underfitting, lo que sugiere que el modelo necesita más datos o ajustes adicionales para mejorar su rendimiento en este aspecto."
   ]
  }
 ],
 "metadata": {
  "language_info": {
   "name": "python"
  }
 },
 "nbformat": 4,
 "nbformat_minor": 2
}
