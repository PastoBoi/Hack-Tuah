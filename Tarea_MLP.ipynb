{
 "cells": [
  {
   "cell_type": "code",
   "execution_count": 125,
   "metadata": {},
   "outputs": [],
   "source": [
    "import pandas as pd\n",
    "from sklearn.model_selection import train_test_split\n",
    "from sklearn.neural_network import MLPClassifier\n",
    "from sklearn.metrics import accuracy_score\n",
    "from sklearn.metrics import precision_score\n",
    "from sklearn.metrics import recall_score\n",
    "import numpy as np\n",
    "from sklearn.model_selection import GridSearchCV\n",
    "from sklearn.neural_network import MLPClassifier\n",
    "from sklearn.preprocessing import StandardScaler\n"
   ]
  },
  {
   "cell_type": "markdown",
   "metadata": {},
   "source": [
    "Se define la funcion CargarDatos, en la cual se leen los archivos del csv, se crea la variable data, que tiene los datos de las frutas que seran usados en el clasificador mlp, y tambien las variables labels y sublabels, que son los nombres de las frutas y los subtipos de frutas"
   ]
  },
  {
   "cell_type": "code",
   "execution_count": 126,
   "metadata": {},
   "outputs": [],
   "source": [
    "def CargarDatos():\n",
    "  df     = pd.read_csv('combined_data.csv')\n",
    "  data   = df.drop(['fruit_label','fruit_name','fruit_subtype'],axis=1)\n",
    "  labels = df.fruit_name\n",
    "  sublabels = df.fruit_subtype\n",
    "  return(data,labels,sublabels)"
   ]
  },
  {
   "cell_type": "markdown",
   "metadata": {},
   "source": [
    "Se define cada una de las variables definidas en la funcion CargarDatos"
   ]
  },
  {
   "cell_type": "code",
   "execution_count": 127,
   "metadata": {},
   "outputs": [],
   "source": [
    "data, labels, sublabels = CargarDatos()\n",
    "scaler = StandardScaler()\n",
    "data_scaled = scaler.fit_transform(data)"
   ]
  },
  {
   "cell_type": "markdown",
   "metadata": {},
   "source": [
    "Se entrenan los modelos de las frutas tanto como los subtipos de estas"
   ]
  },
  {
   "cell_type": "code",
   "execution_count": 128,
   "metadata": {},
   "outputs": [],
   "source": [
    "train_data, test_data, train_labels, test_labels = train_test_split(data, labels, test_size=0.25,random_state=1)"
   ]
  },
  {
   "cell_type": "code",
   "execution_count": 129,
   "metadata": {},
   "outputs": [],
   "source": [
    "subtrain_data, subtest_data, subtrain_labels, subtest_labels = train_test_split(data, sublabels, test_size=0.25,random_state=1)"
   ]
  },
  {
   "cell_type": "markdown",
   "metadata": {},
   "source": [
    "Con este codigo se buscan los mejores parametros para el clasificador mlp, los valores son todos casos mas generales, sin embargo para aclarar, las capas ocultas suelen ser como maximo entre una y dos, y por la simplicidad del modelo, se dejaran asi, en caso de ser mas complejo se podrian aumentar las capas ocultas, generalmente es mejor aumentar la cantidad de capas en vez de la cantidad de neuronas. "
   ]
  },
  {
   "cell_type": "code",
   "execution_count": 151,
   "metadata": {},
   "outputs": [
    {
     "name": "stdout",
     "output_type": "stream",
     "text": [
      "Mejores hiperparámetros: {'activation': 'logistic', 'alpha': 0.001, 'hidden_layer_sizes': (50, 50), 'learning_rate_init': 0.001, 'max_iter': 500, 'solver': 'adam'}\n"
     ]
    },
    {
     "name": "stderr",
     "output_type": "stream",
     "text": [
      "c:\\Users\\felip\\anaconda3\\Lib\\site-packages\\sklearn\\neural_network\\_multilayer_perceptron.py:691: ConvergenceWarning: Stochastic Optimizer: Maximum iterations (500) reached and the optimization hasn't converged yet.\n",
      "  warnings.warn(\n"
     ]
    }
   ],
   "source": [
    "# Definir el clasificador base\n",
    "mlp = MLPClassifier(max_iter=500)\n",
    "\n",
    "# Definir el espacio de hiperparámetros\n",
    "param_grid = {\n",
    "    'solver': ['sgd', 'adam'],\n",
    "    'alpha': [1e-5, 1e-4, 1e-3],\n",
    "    'hidden_layer_sizes': [(50,), (100,), (50, 50), (100, 100)],\n",
    "    'activation': ['relu', 'tanh', 'logistic'],\n",
    "    'learning_rate_init': [0.001, 0.01, 0.1],\n",
    "    'max_iter': [300, 500, 1000]\n",
    "}\n",
    "\n",
    "# Ejecutar GridSearchCV\n",
    "grid_search = GridSearchCV(mlp, param_grid, n_jobs=-1, cv=5)\n",
    "grid_search.fit(subtrain_data, subtrain_labels)\n",
    "\n",
    "# Imprimir los mejores hiperparámetros\n",
    "print(\"Mejores hiperparámetros:\", grid_search.best_params_)"
   ]
  },
  {
   "cell_type": "markdown",
   "metadata": {},
   "source": [
    "Se definen el clasificador junto a sus parametros"
   ]
  },
  {
   "cell_type": "code",
   "execution_count": 152,
   "metadata": {},
   "outputs": [],
   "source": [
    "Clasificador = MLPClassifier(solver='adam',\n",
    "                    alpha=0.001,\n",
    "                    hidden_layer_sizes=(50,50),\n",
    "                    max_iter = 500,\n",
    "                    activation ='logistic',\n",
    "                    random_state=1)"
   ]
  },
  {
   "cell_type": "code",
   "execution_count": 153,
   "metadata": {},
   "outputs": [
    {
     "name": "stderr",
     "output_type": "stream",
     "text": [
      "c:\\Users\\felip\\anaconda3\\Lib\\site-packages\\sklearn\\neural_network\\_multilayer_perceptron.py:691: ConvergenceWarning: Stochastic Optimizer: Maximum iterations (500) reached and the optimization hasn't converged yet.\n",
      "  warnings.warn(\n"
     ]
    }
   ],
   "source": [
    "tmp = Clasificador.fit(train_data, train_labels)"
   ]
  },
  {
   "cell_type": "markdown",
   "metadata": {},
   "source": [
    "se calculan las medidas de accuracy, precision, recall y f1-score para las frutas"
   ]
  },
  {
   "cell_type": "code",
   "execution_count": 154,
   "metadata": {},
   "outputs": [
    {
     "data": {
      "text/plain": [
       "0.7983193277310925"
      ]
     },
     "execution_count": 154,
     "metadata": {},
     "output_type": "execute_result"
    }
   ],
   "source": [
    "Clasificador.score(train_data, train_labels)"
   ]
  },
  {
   "cell_type": "code",
   "execution_count": 155,
   "metadata": {},
   "outputs": [
    {
     "name": "stdout",
     "output_type": "stream",
     "text": [
      "Accuracy sobre los datos de prueba:  0.875\n",
      "Precision sobre los datos de prueba:  0.8875\n",
      "Recall sobre los datos de prueba:  0.8870798319327732\n"
     ]
    }
   ],
   "source": [
    "predicciones  = Clasificador.predict(test_data)\n",
    "accuracy      = accuracy_score(predicciones, test_labels)\n",
    "precision     = precision_score(test_labels, predicciones, average='macro')\n",
    "recall        = recall_score(test_labels, predicciones, average='macro')\n",
    "print(\"Accuracy sobre los datos de prueba: \", accuracy)\n",
    "print(\"Precision sobre los datos de prueba: \", precision)\n",
    "print(\"Recall sobre los datos de prueba: \", recall)"
   ]
  },
  {
   "cell_type": "code",
   "execution_count": 147,
   "metadata": {},
   "outputs": [],
   "source": [
    "subClasificador = MLPClassifier(solver='adam',\n",
    "                    alpha=0.001,\n",
    "                    hidden_layer_sizes=(100,),\n",
    "                    max_iter = 300,\n",
    "                    activation ='logistic',\n",
    "                    random_state=1)"
   ]
  },
  {
   "cell_type": "code",
   "execution_count": 148,
   "metadata": {},
   "outputs": [
    {
     "name": "stderr",
     "output_type": "stream",
     "text": [
      "c:\\Users\\felip\\anaconda3\\Lib\\site-packages\\sklearn\\neural_network\\_multilayer_perceptron.py:691: ConvergenceWarning: Stochastic Optimizer: Maximum iterations (300) reached and the optimization hasn't converged yet.\n",
      "  warnings.warn(\n"
     ]
    }
   ],
   "source": [
    "tmp = subClasificador.fit(subtrain_data, subtrain_labels)"
   ]
  },
  {
   "cell_type": "markdown",
   "metadata": {},
   "source": [
    "se calculan las medidas de accuracy, precision, recall y f1-score para los subtipos de fruta"
   ]
  },
  {
   "cell_type": "code",
   "execution_count": 149,
   "metadata": {},
   "outputs": [
    {
     "data": {
      "text/plain": [
       "0.5798319327731093"
      ]
     },
     "execution_count": 149,
     "metadata": {},
     "output_type": "execute_result"
    }
   ],
   "source": [
    "subClasificador.score(subtrain_data, subtrain_labels)"
   ]
  },
  {
   "cell_type": "code",
   "execution_count": 150,
   "metadata": {},
   "outputs": [
    {
     "name": "stdout",
     "output_type": "stream",
     "text": [
      "Accuracy sobre los datos de prueba:  0.6\n",
      "Precision sobre los datos de prueba:  0.4666666666666667\n",
      "Recall sobre los datos de prueba:  0.4932900432900433\n"
     ]
    },
    {
     "name": "stderr",
     "output_type": "stream",
     "text": [
      "c:\\Users\\felip\\anaconda3\\Lib\\site-packages\\sklearn\\metrics\\_classification.py:1509: UndefinedMetricWarning: Precision is ill-defined and being set to 0.0 in labels with no predicted samples. Use `zero_division` parameter to control this behavior.\n",
      "  _warn_prf(average, modifier, f\"{metric.capitalize()} is\", len(result))\n"
     ]
    }
   ],
   "source": [
    "predicciones  = subClasificador.predict(subtest_data)\n",
    "accuracy      = accuracy_score(predicciones, subtest_labels)\n",
    "precision     = precision_score(subtest_labels, predicciones, average='macro')\n",
    "recall        = recall_score(subtest_labels, predicciones, average='macro')\n",
    "print(\"Accuracy sobre los datos de prueba: \", accuracy)\n",
    "print(\"Precision sobre los datos de prueba: \", precision)\n",
    "print(\"Recall sobre los datos de prueba: \", recall)"
   ]
  }
 ],
 "metadata": {
  "kernelspec": {
   "display_name": "base",
   "language": "python",
   "name": "python3"
  },
  "language_info": {
   "codemirror_mode": {
    "name": "ipython",
    "version": 3
   },
   "file_extension": ".py",
   "mimetype": "text/x-python",
   "name": "python",
   "nbconvert_exporter": "python",
   "pygments_lexer": "ipython3",
   "version": "3.12.4"
  }
 },
 "nbformat": 4,
 "nbformat_minor": 2
}
